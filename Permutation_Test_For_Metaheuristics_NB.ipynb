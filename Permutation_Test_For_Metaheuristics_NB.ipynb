{
  "cells": [
    {
      "cell_type": "markdown",
      "metadata": {
        "id": "v6wePqbqiiZ2"
      },
      "source": [
        "# **Permutation Test for Metaheuristics** \n",
        "*   Omar Tawfik\n",
        "*   Ahmed Aldabagh"
      ]
    },
    {
      "cell_type": "markdown",
      "source": [
        "The following notebook will demonstrate the statistical tests and algorithm written that computes the p-value using permutation tests. "
      ],
      "metadata": {
        "id": "U4SaWhsBuzFb"
      }
    },
    {
      "cell_type": "markdown",
      "metadata": {
        "id": "kL7gh8ScuD97"
      },
      "source": [
        "## Data Import\n"
      ]
    },
    {
      "cell_type": "code",
      "source": [
        "#If you are using Google colab, the data samples can be zipped into one folder and uploaded. Followed by running the code:\n",
        "from zipfile import ZipFile\n",
        "file_name = './Sample.zip' #Change file name \n",
        "\n",
        "with ZipFile(file_name, 'r') as zip:\n",
        "  zip.extractall()\n",
        "  print('Done')"
      ],
      "metadata": {
        "id": "ERtJgfTUuLLc"
      },
      "execution_count": null,
      "outputs": []
    },
    {
      "cell_type": "markdown",
      "metadata": {
        "id": "UFyyH3Uamptb"
      },
      "source": [
        "## Package Imports"
      ]
    },
    {
      "cell_type": "code",
      "execution_count": null,
      "metadata": {
        "id": "xv-mgMX8v5X0"
      },
      "outputs": [],
      "source": [
        "# importing the necessary libraries\n",
        "import numpy as np\n",
        "import scipy.stats as sp\n",
        "import matplotlib.pyplot as plt\n",
        "import pandas as pd\n",
        "from statsmodels.sandbox.stats.multicomp import multipletests\n",
        "from itertools import combinations "
      ]
    },
    {
      "cell_type": "markdown",
      "metadata": {
        "id": "-OE7n-nrKuY6"
      },
      "source": [
        "## Plots Settings\n",
        "\n"
      ]
    },
    {
      "cell_type": "code",
      "execution_count": null,
      "metadata": {
        "id": "KsD_0b24Kcru"
      },
      "outputs": [],
      "source": [
        "# modifying the settings of all plots for the best visualization of data\n",
        "plt.rcParams['axes.spines.right'] = False\n",
        "plt.rcParams['axes.spines.top'] = False\n",
        "\n",
        "plt.rcParams['xtick.bottom'] = False\n",
        "plt.rcParams['ytick.left'] = False"
      ]
    },
    {
      "cell_type": "markdown",
      "metadata": {
        "id": "bnqVynC3jxUC"
      },
      "source": [
        "## Options"
      ]
    },
    {
      "cell_type": "markdown",
      "metadata": {
        "id": "_G6WMjKUn9Zj"
      },
      "source": [
        "Firstly, choose the function you want to perform the statistical tests on, choose the number of permutations, then choose the pairs you want to test on"
      ]
    },
    {
      "cell_type": "code",
      "execution_count": null,
      "metadata": {
        "id": "-c-2JIuswDZQ",
        "cellView": "form"
      },
      "outputs": [],
      "source": [
        "func_num = \"1\" #@param [\"1\", \"2\", \"3\", \"4\", \"5\", \"6\", \"7\", \"8\", \"9\", \"10\"]\n",
        "num_of_permutations = 1000000 #@param {type:\"slider\", min:10000, max:10000000, step:1}\n",
        "#@markdown Write pairs as \"Shade, L-Shade / JS, HBA\" for example (without quotation marks)\n",
        "pairs = \"Shade, L-Shade / Shade, Jaya / JS, HBA\" #@param {type:\"string\"}\n",
        "\n",
        "pairs = [[y.strip() for y in x.strip().split(',')] for x in pairs.split('/')]"
      ]
    },
    {
      "cell_type": "markdown",
      "metadata": {
        "id": "PzPN2pRhlxg1"
      },
      "source": [
        "## Data Files Imports"
      ]
    },
    {
      "cell_type": "code",
      "execution_count": null,
      "metadata": {
        "id": "4V2JXjzkW-_0"
      },
      "outputs": [],
      "source": [
        "# importing the specific function files using the function number taken from above\n",
        "data = {\"Shade\":[float(x) for x in (open(\"./Shade/SHADE_function_\" + func_num + \".txt\").readlines()[1:])], \n",
        "        \"JS\":[float(x) for x in (open(\"./JS/JS_function_\" + func_num + \".txt\").readlines()[1:])], \n",
        "        \"Jaya\":[float(x) for x in (open(\"./Jaya/JAYA_function_\" + func_num + \".txt\").readlines()[1:])],\n",
        "        \"HBA\":[float(x) for x in (open(\"./HBA/HBA_function_\" + func_num + \".txt\").readlines()[1:])],\n",
        "        \"L-Shade\":[float(x) for x in (open(\"./L-Shade/LSHADE_function_\" + func_num + \".txt\").readlines()[1:])]}"
      ]
    },
    {
      "cell_type": "markdown",
      "metadata": {
        "id": "ragt4YZpneiF"
      },
      "source": [
        "## Function Visualization"
      ]
    },
    {
      "cell_type": "code",
      "execution_count": null,
      "metadata": {
        "id": "9vrsmxesLuIS"
      },
      "outputs": [],
      "source": [
        "# displaying a line graph with all methods over the 50 runs to observe patterns\n",
        "plt.plot(data[\"Jaya\"], label = \"Jaya\")\n",
        "plt.plot(data[\"JS\"], label = \"JS\")\n",
        "plt.plot(data[\"Shade\"], label = \"Shade\")\n",
        "plt.plot(data[\"L-Shade\"], label = \"L-Shade\")\n",
        "plt.plot(data[\"HBA\"], label = \"HBA\")\n",
        "\n",
        "\n",
        "\n",
        "# adding a title and labels for clarification\n",
        "plt.title(\"Function \" + func_num)\n",
        "plt.xlabel(\"Num of Runs\")\n",
        "plt.ylabel(\"Returned Result\")\n",
        "\n",
        "plt.yscale(\"log\") # the values of some functions are too large hence the log is used\n",
        "plt.legend()\n",
        "plt.show()"
      ]
    },
    {
      "cell_type": "code",
      "execution_count": null,
      "metadata": {
        "id": "MTmxBXnn3mxO"
      },
      "outputs": [],
      "source": [
        "# displaying a scatter plot to know exactly what each method returned over the 50 runs\n",
        "plt.scatter([x for x in range(1, 51)], data[\"Jaya\"], facecolors=\"none\", ec=\"#1f77b4\", marker=\"o\", label = \"Jaya\")\n",
        "plt.scatter([x for x in range(1, 51)], data[\"JS\"], facecolors=\"none\", ec=\"orange\", marker=\"x\", label = \"JS\")\n",
        "plt.scatter([x for x in range(1, 51)], data[\"Shade\"], facecolors=\"none\", ec=\"green\", marker=\"s\", label = \"Shade\")\n",
        "plt.scatter([x for x in range(1, 51)], data[\"L-Shade\"], facecolors=\"none\", ec=\"red\", marker=\"x\", label = \"L-Shade\")\n",
        "plt.scatter([x for x in range(1, 51)], data[\"HBA\"], facecolors=\"none\", ec=\"black\", marker=\"s\", label = \"HBA\")\n",
        "\n",
        "\n",
        "\n",
        "plt.title(\"Function \" + func_num)\n",
        "plt.xlabel(\"Num of Runs\")\n",
        "plt.ylabel(\"Returned Result (log)\")\n",
        "\n",
        "plt.yscale(\"log\")\n",
        "plt.legend()\n",
        "plt.show()"
      ]
    },
    {
      "cell_type": "code",
      "execution_count": null,
      "metadata": {
        "id": "DrqE3sAq0h1T"
      },
      "outputs": [],
      "source": [
        "# displaying a boxplot for all methods\n",
        "fig, ax = plt.subplots()\n",
        "ax.boxplot(data.values())\n",
        "ax.set_xticklabels(data.keys())\n",
        "\n",
        "plt.title(\"Function \" + func_num)\n",
        "plt.xlabel(\"Optimization Methods\")\n",
        "plt.ylabel(\"Returned Result (log)\")\n",
        "\n",
        "plt.yscale(\"log\")\n",
        "plt.show()"
      ]
    },
    {
      "cell_type": "markdown",
      "metadata": {
        "id": "JbR5sXD2wS8p"
      },
      "source": [
        "## Descriptive Statistics"
      ]
    },
    {
      "cell_type": "code",
      "execution_count": null,
      "metadata": {
        "id": "z_hZr0zLwrC_"
      },
      "outputs": [],
      "source": [
        "# displaying a dataframe (table) comparing the mean, median, and the standard deviation of each method\n",
        "d = [[\"{:.2E}\".format(np.mean(data[\"Shade\"])), \"{:.2E}\".format(np.median(data[\"Shade\"])), \"{:.2E}\".format(np.std(data[\"Shade\"])), \"{:.2E}\".format(np.max(data[\"Shade\"])), \"{:.2E}\".format(np.min(data[\"Shade\"]))],\n",
        "    [\"{:.2E}\".format(np.mean(data[\"Jaya\"])), \"{:.2E}\".format(np.median(data[\"Jaya\"])), \"{:.2E}\".format(np.std(data[\"Jaya\"])), \"{:.2E}\".format(np.max(data[\"Jaya\"])), \"{:.2E}\".format(np.min(data[\"Jaya\"]))],   \n",
        "    [\"{:.2E}\".format(np.mean(data[\"JS\"])), \"{:.2E}\".format(np.median(data[\"JS\"])), \"{:.2E}\".format(np.std(data[\"JS\"])), \"{:.2E}\".format(np.max(data[\"JS\"])), \"{:.2E}\".format(np.min(data[\"JS\"]))],\n",
        "    [\"{:.2E}\".format(np.mean(data[\"L-Shade\"])), \"{:.2E}\".format(np.median(data[\"L-Shade\"])), \"{:.2E}\".format(np.std(data[\"L-Shade\"])), \"{:.2E}\".format(np.max(data[\"L-Shade\"])), \"{:.2E}\".format(np.min(data[\"L-Shade\"]))],\n",
        "    [\"{:.2E}\".format(np.mean(data[\"HBA\"])), \"{:.2E}\".format(np.median(data[\"HBA\"])), \"{:.2E}\".format(np.std(data[\"HBA\"])), \"{:.2E}\".format(np.max(data[\"HBA\"])), \"{:.2E}\".format(np.min(data[\"HBA\"]))]]\n",
        "\n",
        "\n",
        "display(pd.DataFrame(d, columns=[\"Mean\", \"Median\", \"Standard Deviation\", \"Max\", \"Min\"], index=[\"Shade\", \"Jaya\", \"JS\", \"L-Shade\", \"HBA\"]).sort_values(\"Mean\"))"
      ]
    },
    {
      "cell_type": "markdown",
      "metadata": {
        "id": "quUR3sZrrnMt"
      },
      "source": [
        "## Code"
      ]
    },
    {
      "cell_type": "code",
      "execution_count": null,
      "metadata": {
        "id": "YEQ4Zm8FbMEJ"
      },
      "outputs": [],
      "source": [
        "# preparing the dataframes (tables)\n",
        "df1 = pd.DataFrame(index=[[', '.join(x) for x in pairs]], columns=[\"KS-Test P-Value\", \"Sum-Rank P-Value\", \"Permutations P-Value\"])\n",
        "df2 = pd.DataFrame(index=[[', '.join(x) for x in pairs]], columns=[\"KS-Test P-Value\", \"Sum-Rank P-Value\", \"Permutations P-Value\"])\n",
        "df3 = pd.DataFrame(index=[[', '.join(x) for x in pairs]], columns=[\"KS-Test P-Value\", \"Sum-Rank P-Value\", \"Permutations P-Value\"])"
      ]
    },
    {
      "cell_type": "markdown",
      "metadata": {
        "id": "TmwXsvygj4GH"
      },
      "source": [
        "The following code will perform:\n",
        "  - The permutation test for each of the chosen pairs\n",
        "  - P-Value comparison between the KS-Test, Sum-Rank Test, and the Permutation Test\n",
        "  - Bonferroni Correction Test\n",
        "  - Benjamini-Hochberg Correction Test\n",
        "  - Show permutation distributions for the pairs"
      ]
    },
    {
      "cell_type": "code",
      "execution_count": null,
      "metadata": {
        "id": "q3B3WJFUyuum"
      },
      "outputs": [],
      "source": [
        "np.random.seed(123456789)\n",
        "# looping through all possible pairs\n",
        "for l1, l2 in combinations(data.keys(), 2):\n",
        "\n",
        "  found = 0\n",
        "  for x in pairs:\n",
        "    if ((x[0] == l1 or x[0] == l2) and (x[1] == l1 or x[1] == l2)):\n",
        "      found = 1\n",
        "\n",
        "  if (found == 0):\n",
        "    continue\n",
        "\n",
        "  diff = np.abs(np.median (data[l1]) - np.median (data[l2])) #calculating the absolute difference of meadians of the pair\n",
        "\n",
        "  diffs = [] # new empty list to store new differences in\n",
        "\n",
        "  # loop for number of permutations chosen above\n",
        "  for x in range(num_of_permutations):\n",
        "    comb = np.random.permutation(np.concatenate((data[l1], data[l2]))) # combining the two lists and performing permutations\n",
        "\n",
        "    # splitting the list to 2 new lists\n",
        "    a = comb[:50]\n",
        "    b = comb[50:]\n",
        "\n",
        "    # calculating the medians of the new lists\n",
        "    m1 = np.median(a)\n",
        "    m2 = np.median(b)\n",
        "\n",
        "    diffs.append (np.abs(m1 - m2)) # adding the new absolute difference to the differences list\n",
        "\n",
        "  sum = len([x for x in diffs if x >= diff]) # calculating the sum of new differences greater than the original one\n",
        "\n",
        "  p = sum / (num_of_permutations + 1) # calculating the p value of permutations\n",
        "  ks, ks_p = sp.ks_2samp(data[l1], data[l2]) # performing a ks-test\n",
        "  sum, sum_p = sp.ranksums(data[l1], data[l2]) # performing a t-test\n",
        "\n",
        "  corrected_p = multipletests([p, ks_p, sum_p], alpha=0.05, method=\"bonferroni\", is_sorted=False) # performing a Bonferroni correction\n",
        "  corrected_p2 = multipletests([p, ks_p, sum_p], alpha=0.05, method=\"fdr_bh\", is_sorted=False) # performing a Benjamini-Hochberg correction\n",
        "\n",
        "  # Adding values to the dataframes (tables)\n",
        "  df1.loc[l1 + \", \" + l2,:] = [\"{:.2E}\".format(ks_p), \"{:.2E}\".format(sum_p), \"{:.2E}\".format(p)]\n",
        "  df2.loc[l1 + \", \" + l2,:] = [\"{:.2E}\".format(corrected_p[1][1]), \"{:.2E}\".format(corrected_p[1][2]), \"{:.2E}\".format(corrected_p[1][0])]\n",
        "  df3.loc[l1 + \", \" + l2,:] = [\"{:.2E}\".format(corrected_p2[1][1]), \"{:.2E}\".format(corrected_p2[1][2]), \"{:.2E}\".format(corrected_p2[1][0])]\n",
        "\n",
        "  # plotting the permutations distribution\n",
        "  plt.hist(diffs, facecolor = 'None', edgecolor='red', bins=25)\n",
        "  plt.axvline(diff, color='blue')\n",
        "\n",
        "  plt.title(\"Permutations Distribution for Function \" + str(func_num) + \"\\n\" + l1 + \" vs. \" + l2)\n",
        "  plt.xlabel(\"Permutations Differences\")\n",
        "  plt.ylabel(\"Frequency\")\n",
        "  \n",
        "  plt.show()\n",
        "  plt.close()\n",
        "\n",
        "  print()"
      ]
    },
    {
      "cell_type": "code",
      "execution_count": null,
      "metadata": {
        "id": "PXm1rVTEWUKD"
      },
      "outputs": [],
      "source": [
        "# displaying the dataframes (tables)\n",
        "print(\"- Original Values:\\n\")\n",
        "display(df1)\n",
        "\n",
        "print(\"\\n\\n\\n- Bonferroni Correction:\\n\")\n",
        "display(df2)\n",
        "\n",
        "print(\"\\n\\n\\n- Benjamini-Hochberg Correction:\\n\")\n",
        "display(df3)"
      ]
    }
  ],
  "metadata": {
    "colab": {
      "collapsed_sections": [],
      "name": "Permutation Test For Metaheuristics NB.ipynb",
      "provenance": []
    },
    "kernelspec": {
      "display_name": "Python 3",
      "name": "python3"
    },
    "language_info": {
      "name": "python"
    }
  },
  "nbformat": 4,
  "nbformat_minor": 0
}
